{
 "cells": [
  {
   "cell_type": "markdown",
   "metadata": {},
   "source": [
    "#### DAY 1"
   ]
  },
  {
   "cell_type": "code",
   "execution_count": 2,
   "metadata": {},
   "outputs": [],
   "source": [
    "# Import Libraries\n",
    "import numpy as np \n",
    "import pandas as pd "
   ]
  },
  {
   "cell_type": "markdown",
   "metadata": {},
   "source": [
    "### 1. EDA"
   ]
  },
  {
   "cell_type": "code",
   "execution_count": 3,
   "metadata": {},
   "outputs": [],
   "source": [
    "df = pd.read_csv(\"Data/FastagFraudDetection.csv\")"
   ]
  },
  {
   "cell_type": "code",
   "execution_count": 4,
   "metadata": {},
   "outputs": [
    {
     "data": {
      "application/vnd.microsoft.datawrangler.viewer.v0+json": {
       "columns": [
        {
         "name": "index",
         "rawType": "int64",
         "type": "integer"
        },
        {
         "name": "Transaction_ID",
         "rawType": "int64",
         "type": "integer"
        },
        {
         "name": "Timestamp",
         "rawType": "object",
         "type": "string"
        },
        {
         "name": "Vehicle_Type",
         "rawType": "object",
         "type": "string"
        },
        {
         "name": "FastagID",
         "rawType": "object",
         "type": "unknown"
        },
        {
         "name": "TollBoothID",
         "rawType": "object",
         "type": "string"
        },
        {
         "name": "Lane_Type",
         "rawType": "object",
         "type": "string"
        },
        {
         "name": "Vehicle_Dimensions",
         "rawType": "object",
         "type": "string"
        },
        {
         "name": "Transaction_Amount",
         "rawType": "int64",
         "type": "integer"
        },
        {
         "name": "Amount_paid",
         "rawType": "int64",
         "type": "integer"
        },
        {
         "name": "Geographical_Location",
         "rawType": "object",
         "type": "string"
        },
        {
         "name": "Vehicle_Speed",
         "rawType": "int64",
         "type": "integer"
        },
        {
         "name": "Vehicle_Plate_Number",
         "rawType": "object",
         "type": "string"
        },
        {
         "name": "Fraud_indicator",
         "rawType": "object",
         "type": "string"
        }
       ],
       "conversionMethod": "pd.DataFrame",
       "ref": "113ff876-4edc-4ac8-b126-b26ce2108464",
       "rows": [
        [
         "0",
         "1",
         "1/6/2023 11:20",
         "Bus ",
         "FTG-001-ABC-121",
         "A-101",
         "Express",
         "Large",
         "350",
         "120",
         "13.059816123454882, 77.77068662374292",
         "65",
         "KA11AB1234",
         "Fraud"
        ],
        [
         "1",
         "2",
         "1/7/2023 14:55",
         "Car",
         "FTG-002-XYZ-451",
         "B-102",
         "Regular",
         "Small",
         "120",
         "100",
         "13.059816123454882, 77.77068662374292",
         "78",
         "KA66CD5678",
         "Fraud"
        ],
        [
         "2",
         "3",
         "1/8/2023 18:25",
         "Motorcycle",
         null,
         "D-104",
         "Regular",
         "Small",
         "0",
         "0",
         "13.059816123454882, 77.77068662374292",
         "53",
         "KA88EF9012",
         "Not Fraud"
        ],
        [
         "3",
         "4",
         "1/9/2023 2:05",
         "Truck",
         "FTG-044-LMN-322",
         "C-103",
         "Regular",
         "Large",
         "350",
         "120",
         "13.059816123454882, 77.77068662374292",
         "92",
         "KA11GH3456",
         "Fraud"
        ],
        [
         "4",
         "5",
         "1/10/2023 6:35",
         "Van",
         "FTG-505-DEF-652",
         "B-102",
         "Express",
         "Medium",
         "140",
         "100",
         "13.059816123454882, 77.77068662374292",
         "60",
         "KA44IJ6789",
         "Fraud"
        ]
       ],
       "shape": {
        "columns": 13,
        "rows": 5
       }
      },
      "text/html": [
       "<div>\n",
       "<style scoped>\n",
       "    .dataframe tbody tr th:only-of-type {\n",
       "        vertical-align: middle;\n",
       "    }\n",
       "\n",
       "    .dataframe tbody tr th {\n",
       "        vertical-align: top;\n",
       "    }\n",
       "\n",
       "    .dataframe thead th {\n",
       "        text-align: right;\n",
       "    }\n",
       "</style>\n",
       "<table border=\"1\" class=\"dataframe\">\n",
       "  <thead>\n",
       "    <tr style=\"text-align: right;\">\n",
       "      <th></th>\n",
       "      <th>Transaction_ID</th>\n",
       "      <th>Timestamp</th>\n",
       "      <th>Vehicle_Type</th>\n",
       "      <th>FastagID</th>\n",
       "      <th>TollBoothID</th>\n",
       "      <th>Lane_Type</th>\n",
       "      <th>Vehicle_Dimensions</th>\n",
       "      <th>Transaction_Amount</th>\n",
       "      <th>Amount_paid</th>\n",
       "      <th>Geographical_Location</th>\n",
       "      <th>Vehicle_Speed</th>\n",
       "      <th>Vehicle_Plate_Number</th>\n",
       "      <th>Fraud_indicator</th>\n",
       "    </tr>\n",
       "  </thead>\n",
       "  <tbody>\n",
       "    <tr>\n",
       "      <th>0</th>\n",
       "      <td>1</td>\n",
       "      <td>1/6/2023 11:20</td>\n",
       "      <td>Bus</td>\n",
       "      <td>FTG-001-ABC-121</td>\n",
       "      <td>A-101</td>\n",
       "      <td>Express</td>\n",
       "      <td>Large</td>\n",
       "      <td>350</td>\n",
       "      <td>120</td>\n",
       "      <td>13.059816123454882, 77.77068662374292</td>\n",
       "      <td>65</td>\n",
       "      <td>KA11AB1234</td>\n",
       "      <td>Fraud</td>\n",
       "    </tr>\n",
       "    <tr>\n",
       "      <th>1</th>\n",
       "      <td>2</td>\n",
       "      <td>1/7/2023 14:55</td>\n",
       "      <td>Car</td>\n",
       "      <td>FTG-002-XYZ-451</td>\n",
       "      <td>B-102</td>\n",
       "      <td>Regular</td>\n",
       "      <td>Small</td>\n",
       "      <td>120</td>\n",
       "      <td>100</td>\n",
       "      <td>13.059816123454882, 77.77068662374292</td>\n",
       "      <td>78</td>\n",
       "      <td>KA66CD5678</td>\n",
       "      <td>Fraud</td>\n",
       "    </tr>\n",
       "    <tr>\n",
       "      <th>2</th>\n",
       "      <td>3</td>\n",
       "      <td>1/8/2023 18:25</td>\n",
       "      <td>Motorcycle</td>\n",
       "      <td>NaN</td>\n",
       "      <td>D-104</td>\n",
       "      <td>Regular</td>\n",
       "      <td>Small</td>\n",
       "      <td>0</td>\n",
       "      <td>0</td>\n",
       "      <td>13.059816123454882, 77.77068662374292</td>\n",
       "      <td>53</td>\n",
       "      <td>KA88EF9012</td>\n",
       "      <td>Not Fraud</td>\n",
       "    </tr>\n",
       "    <tr>\n",
       "      <th>3</th>\n",
       "      <td>4</td>\n",
       "      <td>1/9/2023 2:05</td>\n",
       "      <td>Truck</td>\n",
       "      <td>FTG-044-LMN-322</td>\n",
       "      <td>C-103</td>\n",
       "      <td>Regular</td>\n",
       "      <td>Large</td>\n",
       "      <td>350</td>\n",
       "      <td>120</td>\n",
       "      <td>13.059816123454882, 77.77068662374292</td>\n",
       "      <td>92</td>\n",
       "      <td>KA11GH3456</td>\n",
       "      <td>Fraud</td>\n",
       "    </tr>\n",
       "    <tr>\n",
       "      <th>4</th>\n",
       "      <td>5</td>\n",
       "      <td>1/10/2023 6:35</td>\n",
       "      <td>Van</td>\n",
       "      <td>FTG-505-DEF-652</td>\n",
       "      <td>B-102</td>\n",
       "      <td>Express</td>\n",
       "      <td>Medium</td>\n",
       "      <td>140</td>\n",
       "      <td>100</td>\n",
       "      <td>13.059816123454882, 77.77068662374292</td>\n",
       "      <td>60</td>\n",
       "      <td>KA44IJ6789</td>\n",
       "      <td>Fraud</td>\n",
       "    </tr>\n",
       "  </tbody>\n",
       "</table>\n",
       "</div>"
      ],
      "text/plain": [
       "   Transaction_ID       Timestamp Vehicle_Type         FastagID TollBoothID  \\\n",
       "0               1  1/6/2023 11:20         Bus   FTG-001-ABC-121       A-101   \n",
       "1               2  1/7/2023 14:55          Car  FTG-002-XYZ-451       B-102   \n",
       "2               3  1/8/2023 18:25   Motorcycle              NaN       D-104   \n",
       "3               4   1/9/2023 2:05        Truck  FTG-044-LMN-322       C-103   \n",
       "4               5  1/10/2023 6:35          Van  FTG-505-DEF-652       B-102   \n",
       "\n",
       "  Lane_Type Vehicle_Dimensions  Transaction_Amount  Amount_paid  \\\n",
       "0   Express              Large                 350          120   \n",
       "1   Regular              Small                 120          100   \n",
       "2   Regular              Small                   0            0   \n",
       "3   Regular              Large                 350          120   \n",
       "4   Express             Medium                 140          100   \n",
       "\n",
       "                   Geographical_Location  Vehicle_Speed Vehicle_Plate_Number  \\\n",
       "0  13.059816123454882, 77.77068662374292             65           KA11AB1234   \n",
       "1  13.059816123454882, 77.77068662374292             78           KA66CD5678   \n",
       "2  13.059816123454882, 77.77068662374292             53           KA88EF9012   \n",
       "3  13.059816123454882, 77.77068662374292             92           KA11GH3456   \n",
       "4  13.059816123454882, 77.77068662374292             60           KA44IJ6789   \n",
       "\n",
       "  Fraud_indicator  \n",
       "0           Fraud  \n",
       "1           Fraud  \n",
       "2       Not Fraud  \n",
       "3           Fraud  \n",
       "4           Fraud  "
      ]
     },
     "execution_count": 4,
     "metadata": {},
     "output_type": "execute_result"
    }
   ],
   "source": [
    "df.head()"
   ]
  },
  {
   "cell_type": "code",
   "execution_count": 5,
   "metadata": {},
   "outputs": [
    {
     "data": {
      "text/plain": [
       "(5000, 13)"
      ]
     },
     "execution_count": 5,
     "metadata": {},
     "output_type": "execute_result"
    }
   ],
   "source": [
    "# Shape of Data \n",
    "df.shape"
   ]
  },
  {
   "cell_type": "code",
   "execution_count": 6,
   "metadata": {},
   "outputs": [
    {
     "name": "stdout",
     "output_type": "stream",
     "text": [
      "<class 'pandas.core.frame.DataFrame'>\n",
      "RangeIndex: 5000 entries, 0 to 4999\n",
      "Data columns (total 13 columns):\n",
      " #   Column                 Non-Null Count  Dtype \n",
      "---  ------                 --------------  ----- \n",
      " 0   Transaction_ID         5000 non-null   int64 \n",
      " 1   Timestamp              5000 non-null   object\n",
      " 2   Vehicle_Type           5000 non-null   object\n",
      " 3   FastagID               4451 non-null   object\n",
      " 4   TollBoothID            5000 non-null   object\n",
      " 5   Lane_Type              5000 non-null   object\n",
      " 6   Vehicle_Dimensions     5000 non-null   object\n",
      " 7   Transaction_Amount     5000 non-null   int64 \n",
      " 8   Amount_paid            5000 non-null   int64 \n",
      " 9   Geographical_Location  5000 non-null   object\n",
      " 10  Vehicle_Speed          5000 non-null   int64 \n",
      " 11  Vehicle_Plate_Number   5000 non-null   object\n",
      " 12  Fraud_indicator        5000 non-null   object\n",
      "dtypes: int64(4), object(9)\n",
      "memory usage: 507.9+ KB\n"
     ]
    }
   ],
   "source": [
    "# Information\n",
    "df.info()"
   ]
  },
  {
   "cell_type": "code",
   "execution_count": 7,
   "metadata": {},
   "outputs": [
    {
     "data": {
      "text/plain": [
       "Transaction_ID             0\n",
       "Timestamp                  0\n",
       "Vehicle_Type               0\n",
       "FastagID                 549\n",
       "TollBoothID                0\n",
       "Lane_Type                  0\n",
       "Vehicle_Dimensions         0\n",
       "Transaction_Amount         0\n",
       "Amount_paid                0\n",
       "Geographical_Location      0\n",
       "Vehicle_Speed              0\n",
       "Vehicle_Plate_Number       0\n",
       "Fraud_indicator            0\n",
       "dtype: int64"
      ]
     },
     "execution_count": 7,
     "metadata": {},
     "output_type": "execute_result"
    }
   ],
   "source": [
    "# Check the Null Values \n",
    "df.isnull().sum()"
   ]
  },
  {
   "cell_type": "code",
   "execution_count": 8,
   "metadata": {},
   "outputs": [
    {
     "data": {
      "application/vnd.microsoft.datawrangler.viewer.v0+json": {
       "columns": [
        {
         "name": "index",
         "rawType": "int64",
         "type": "integer"
        },
        {
         "name": "Transaction_ID",
         "rawType": "int64",
         "type": "integer"
        },
        {
         "name": "Timestamp",
         "rawType": "object",
         "type": "string"
        },
        {
         "name": "Vehicle_Type",
         "rawType": "object",
         "type": "string"
        },
        {
         "name": "FastagID",
         "rawType": "object",
         "type": "unknown"
        },
        {
         "name": "TollBoothID",
         "rawType": "object",
         "type": "string"
        },
        {
         "name": "Lane_Type",
         "rawType": "object",
         "type": "string"
        },
        {
         "name": "Vehicle_Dimensions",
         "rawType": "object",
         "type": "string"
        },
        {
         "name": "Transaction_Amount",
         "rawType": "int64",
         "type": "integer"
        },
        {
         "name": "Amount_paid",
         "rawType": "int64",
         "type": "integer"
        },
        {
         "name": "Geographical_Location",
         "rawType": "object",
         "type": "string"
        },
        {
         "name": "Vehicle_Speed",
         "rawType": "int64",
         "type": "integer"
        },
        {
         "name": "Vehicle_Plate_Number",
         "rawType": "object",
         "type": "string"
        },
        {
         "name": "Fraud_indicator",
         "rawType": "object",
         "type": "string"
        }
       ],
       "conversionMethod": "pd.DataFrame",
       "ref": "b46cf669-a44a-484a-8da4-ef00e374e113",
       "rows": [
        [
         "2",
         "3",
         "1/8/2023 18:25",
         "Motorcycle",
         null,
         "D-104",
         "Regular",
         "Small",
         "0",
         "0",
         "13.059816123454882, 77.77068662374292",
         "53",
         "KA88EF9012",
         "Not Fraud"
        ],
        [
         "9",
         "10",
         "1/15/2023 7:30",
         "Motorcycle",
         null,
         "D-104",
         "Regular",
         "Small",
         "0",
         "0",
         "13.059816123454882, 77.77068662374292",
         "72",
         "KA22ST6789",
         "Not Fraud"
        ],
        [
         "16",
         "17",
         "1/22/2023 16:45",
         "Motorcycle",
         null,
         "D-104",
         "Regular",
         "Small",
         "0",
         "0",
         "13.059816123454882, 77.77068662374292",
         "62",
         "KA20GH1345",
         "Not Fraud"
        ],
        [
         "23",
         "24",
         "1/29/2023 3:05",
         "Motorcycle",
         null,
         "D-104",
         "Regular",
         "Small",
         "0",
         "0",
         "13.059816123454882, 77.77068662374292",
         "77",
         "KA77UV0123",
         "Not Fraud"
        ],
        [
         "30",
         "31",
         "2/5/2023 13:20",
         "Motorcycle",
         null,
         "D-104",
         "Regular",
         "Small",
         "0",
         "0",
         "13.059816123454882, 77.77068662374292",
         "57",
         "KA92IJ5789",
         "Not Fraud"
        ],
        [
         "37",
         "38",
         "2/12/2023 23:35",
         "Motorcycle",
         null,
         "D-104",
         "Regular",
         "Small",
         "0",
         "0",
         "13.059816123454882, 77.77068662374292",
         "85",
         "KA15IJ6789",
         "Not Fraud"
        ],
        [
         "44",
         "45",
         "2/19/2023 8:45",
         "Motorcycle",
         null,
         "D-104",
         "Regular",
         "Small",
         "0",
         "0",
         "13.059816123454882, 77.77068662374292",
         "71",
         "KA36WX3456",
         "Not Fraud"
        ],
        [
         "51",
         "52",
         "2/26/2023 18:05",
         "Motorcycle",
         null,
         "D-104",
         "Regular",
         "Small",
         "0",
         "0",
         "13.059816123454882, 77.77068662374292",
         "94",
         "KA57KL0123",
         "Not Fraud"
        ],
        [
         "58",
         "59",
         "3/5/2023 3:15",
         "Motorcycle",
         null,
         "D-104",
         "Regular",
         "Small",
         "0",
         "0",
         "13.059816123454882, 77.77068662374292",
         "58",
         "KA78YZ6789",
         "Not Fraud"
        ],
        [
         "65",
         "66",
         "3/12/2023 13:35",
         "Motorcycle",
         null,
         "D-104",
         "Regular",
         "Small",
         "0",
         "0",
         "13.059816123454882, 77.77068662374292",
         "80",
         "KA99MN4567",
         "Not Fraud"
        ],
        [
         "72",
         "73",
         "3/19/2023 0:55",
         "Motorcycle",
         null,
         "D-104",
         "Regular",
         "Small",
         "0",
         "0",
         "13.059816123454882, 77.77068662374292",
         "53",
         "KA18AB2345",
         "Not Fraud"
        ],
        [
         "79",
         "80",
         "3/26/2023 11:05",
         "Motorcycle",
         null,
         "D-104",
         "Regular",
         "Small",
         "0",
         "0",
         "13.059816123454882, 77.77068662374292",
         "76",
         "KA41OP0123",
         "Not Fraud"
        ],
        [
         "86",
         "87",
         "4/2/2023 22:20",
         "Motorcycle",
         null,
         "D-104",
         "Regular",
         "Small",
         "0",
         "0",
         "13.059816123454882, 77.77068662374292",
         "52",
         "KA62CD8901",
         "Not Fraud"
        ],
        [
         "93",
         "94",
         "4/9/2023 6:30",
         "Motorcycle",
         null,
         "D-104",
         "Regular",
         "Small",
         "0",
         "0",
         "13.059816123454882, 77.77068662374292",
         "83",
         "KA83QR6789",
         "Not Fraud"
        ],
        [
         "100",
         "101",
         "4/16/2023 15:50",
         "Motorcycle",
         null,
         "D-104",
         "Regular",
         "Small",
         "0",
         "0",
         "13.059816123454882, 77.77068662374292",
         "57",
         "KA04EF4567",
         "Not Fraud"
        ],
        [
         "107",
         "108",
         "4/23/2023 4:15",
         "Motorcycle",
         null,
         "D-104",
         "Regular",
         "Small",
         "0",
         "0",
         "13.059816123454882, 77.77068662374292",
         "76",
         "KA25ST2345",
         "Not Fraud"
        ],
        [
         "114",
         "115",
         "1/3/2023 16:30",
         "Motorcycle",
         null,
         "D-104",
         "Regular",
         "Small",
         "0",
         "0",
         "13.059816123454882, 77.77068662374292",
         "52",
         "KA46GH0123",
         "Not Fraud"
        ],
        [
         "121",
         "122",
         "1/10/2023 6:35",
         "Motorcycle",
         null,
         "D-104",
         "Regular",
         "Small",
         "0",
         "0",
         "13.059816123454882, 77.77068662374292",
         "85",
         "KA11EF6789",
         "Not Fraud"
        ],
        [
         "128",
         "129",
         "1/17/2023 17:45",
         "Motorcycle",
         null,
         "D-104",
         "Regular",
         "Small",
         "0",
         "0",
         "13.059816123454882, 77.77068662374292",
         "68",
         "KA32ST4567",
         "Not Fraud"
        ],
        [
         "135",
         "136",
         "1/24/2023 2:55",
         "Motorcycle",
         null,
         "D-104",
         "Regular",
         "Small",
         "0",
         "0",
         "13.059816123454882, 77.77068662374292",
         "77",
         "KA53GH2335",
         "Not Fraud"
        ],
        [
         "142",
         "143",
         "1/31/2023 11:10",
         "Motorcycle",
         null,
         "D-105",
         "Regular",
         "Small",
         "0",
         "0",
         "13.059816123454882, 77.77068662374292",
         "66",
         "KA74UV0113",
         "Not Fraud"
        ],
        [
         "149",
         "150",
         "2/7/2023 23:30",
         "Motorcycle",
         null,
         "D-105",
         "Regular",
         "Small",
         "0",
         "0",
         "13.059816123454882, 77.77068662374292",
         "73",
         "KA95IJ8101",
         "Not Fraud"
        ],
        [
         "156",
         "157",
         "2/14/2023 8:45",
         "Motorcycle",
         null,
         "D-105",
         "Regular",
         "Small",
         "0",
         "0",
         "13.059816123454882, 77.77068662374292",
         "65",
         "KA16WX6889",
         "Not Fraud"
        ],
        [
         "163",
         "164",
         "2/21/2023 18:00",
         "Motorcycle",
         null,
         "D-105",
         "Regular",
         "Small",
         "0",
         "0",
         "13.059816123454882, 77.77068662374292",
         "78",
         "KA37KL2342",
         "Not Fraud"
        ],
        [
         "170",
         "171",
         "2/28/2023 5:20",
         "Motorcycle",
         null,
         "D-105",
         "Regular",
         "Small",
         "0",
         "0",
         "13.059816123454882, 77.77068662374292",
         "47",
         "KA58YZ0323",
         "Not Fraud"
        ],
        [
         "177",
         "178",
         "3/7/2023 12:30",
         "Motorcycle",
         null,
         "D-105",
         "Regular",
         "Small",
         "0",
         "0",
         "13.059816123454882, 77.77068662374292",
         "84",
         "KA79MN6689",
         "Not Fraud"
        ],
        [
         "184",
         "185",
         "3/14/2023 23:50",
         "Motorcycle",
         null,
         "D-105",
         "Regular",
         "Small",
         "0",
         "0",
         "13.059816123454882, 77.77068662374292",
         "74",
         "KA02AB2245",
         "Not Fraud"
        ],
        [
         "191",
         "192",
         "3/21/2023 11:05",
         "Motorcycle",
         null,
         "D-105",
         "Regular",
         "Small",
         "0",
         "0",
         "13.059816123454882, 77.77068662374292",
         "90",
         "KA23OP1123",
         "Not Fraud"
        ],
        [
         "198",
         "199",
         "3/28/2023 21:20",
         "Motorcycle",
         null,
         "D-105",
         "Regular",
         "Small",
         "0",
         "0",
         "13.059816123454882, 77.77068662374292",
         "46",
         "KA44CD5789",
         "Not Fraud"
        ],
        [
         "205",
         "206",
         "1/5/2023 5:40",
         "Motorcycle",
         null,
         "D-105",
         "Regular",
         "Small",
         "0",
         "0",
         "13.059816123454882, 77.77068662374292",
         "82",
         "KA05YZ9012",
         "Not Fraud"
        ],
        [
         "212",
         "213",
         "1/12/2023 15:40",
         "Motorcycle",
         null,
         "D-105",
         "Regular",
         "Small",
         "0",
         "0",
         "13.059816123454882, 77.77068662374292",
         "67",
         "KA26MN6689",
         "Not Fraud"
        ],
        [
         "219",
         "220",
         "1/19/2023 4:00",
         "Motorcycle",
         null,
         "D-105",
         "Regular",
         "Small",
         "0",
         "0",
         "13.059816123454882, 77.77068662374292",
         "95",
         "KA47AB2245",
         "Not Fraud"
        ],
        [
         "226",
         "227",
         "1/26/2023 12:10",
         "Motorcycle",
         null,
         "D-105",
         "Regular",
         "Small",
         "0",
         "0",
         "13.059816123454882, 77.77068662374292",
         "69",
         "KA68OP0133",
         "Not Fraud"
        ],
        [
         "233",
         "234",
         "2/2/2023 21:25",
         "Motorcycle",
         null,
         "D-105",
         "Regular",
         "Small",
         "0",
         "0",
         "13.059816123454882, 77.77068662374292",
         "81",
         "KA89CD5789",
         "Not Fraud"
        ],
        [
         "240",
         "241",
         "2/9/2023 9:40",
         "Motorcycle",
         null,
         "D-105",
         "Regular",
         "Small",
         "0",
         "0",
         "13.059816123454882, 77.77068662374292",
         "50",
         "KA10QR1567",
         "Not Fraud"
        ],
        [
         "247",
         "248",
         "2/16/2023 16:55",
         "Motorcycle",
         null,
         "D-105",
         "Regular",
         "Small",
         "0",
         "0",
         "13.059816123454882, 77.77068662374292",
         "80",
         "KA31EF0923",
         "Not Fraud"
        ],
        [
         "254",
         "255",
         "2/23/2023 4:15",
         "Motorcycle",
         null,
         "D-105",
         "Regular",
         "Small",
         "0",
         "0",
         "13.059816123454882, 77.77068662374292",
         "70",
         "KA52ST8801",
         "Not Fraud"
        ],
        [
         "261",
         "262",
         "3/2/2023 14:30",
         "Motorcycle",
         null,
         "D-105",
         "Regular",
         "Small",
         "0",
         "0",
         "13.059816123454882, 77.77068662374292",
         "79",
         "KA73GH4167",
         "Not Fraud"
        ],
        [
         "268",
         "269",
         "3/9/2023 21:45",
         "Motorcycle",
         null,
         "D-105",
         "Regular",
         "Small",
         "0",
         "0",
         "13.059816123454882, 77.77068662374292",
         "55",
         "KA94UV2145",
         "Not Fraud"
        ],
        [
         "275",
         "276",
         "3/16/2023 10:05",
         "Motorcycle",
         null,
         "D-105",
         "Regular",
         "Small",
         "0",
         "0",
         "13.059816123454882, 77.77068662374292",
         "91",
         "KA17IJ8101",
         "Not Fraud"
        ],
        [
         "282",
         "283",
         "3/23/2023 21:20",
         "Motorcycle",
         null,
         "D-105",
         "Regular",
         "Small",
         "0",
         "0",
         "13.059816123454882, 77.77068662374292",
         "49",
         "KA38WX6189",
         "Not Fraud"
        ],
        [
         "289",
         "290",
         "3/30/2023 7:30",
         "Motorcycle",
         null,
         "D-105",
         "Regular",
         "Small",
         "0",
         "0",
         "13.059816123454882, 77.77068662374292",
         "85",
         "KA59KL2142",
         "Not Fraud"
        ],
        [
         "296",
         "297",
         "4/6/2023 15:40",
         "Motorcycle",
         null,
         "D-105",
         "Regular",
         "Small",
         "0",
         "0",
         "13.059816123454882, 77.77068662374292",
         "60",
         "KA17IJ6689",
         "Not Fraud"
        ],
        [
         "303",
         "304",
         "4/13/2023 1:00",
         "Motorcycle",
         null,
         "D-105",
         "Regular",
         "Small",
         "0",
         "0",
         "13.059816123454882, 77.77068662374292",
         "93",
         "KA38WX4567",
         "Not Fraud"
        ],
        [
         "310",
         "311",
         "4/20/2023 12:20",
         "Motorcycle",
         null,
         "D-105",
         "Regular",
         "Small",
         "0",
         "0",
         "13.059816123454882, 77.77068662374292",
         "48",
         "KA59KL2395",
         "Not Fraud"
        ],
        [
         "317",
         "318",
         "4/27/2023 23:40",
         "Motorcycle",
         null,
         "D-105",
         "Regular",
         "Small",
         "0",
         "0",
         "13.059816123454882, 77.77068662374292",
         "89",
         "KA80YZ0113",
         "Not Fraud"
        ],
        [
         "324",
         "325",
         "5/4/2023 7:55",
         "Motorcycle",
         null,
         "D-105",
         "Regular",
         "Small",
         "0",
         "0",
         "13.059816123454882, 77.77068662374292",
         "61",
         "KA01MN6779",
         "Not Fraud"
        ],
        [
         "331",
         "332",
         "5/11/2023 18:10",
         "Motorcycle",
         null,
         "D-105",
         "Regular",
         "Small",
         "0",
         "0",
         "13.059816123454882, 77.77068662374292",
         "83",
         "KA22AB2335",
         "Not Fraud"
        ],
        [
         "338",
         "339",
         "5/18/2023 6:35",
         "Motorcycle",
         null,
         "D-105",
         "Regular",
         "Small",
         "0",
         "0",
         "13.059816123454882, 77.77068662374292",
         "53",
         "KA43OP0153",
         "Not Fraud"
        ],
        [
         "345",
         "346",
         "5/25/2023 16:45",
         "Motorcycle",
         null,
         "D-105",
         "Regular",
         "Small",
         "0",
         "0",
         "13.059816123454882, 77.77068662374292",
         "84",
         "KA64CD6769",
         "Not Fraud"
        ]
       ],
       "shape": {
        "columns": 13,
        "rows": 549
       }
      },
      "text/html": [
       "<div>\n",
       "<style scoped>\n",
       "    .dataframe tbody tr th:only-of-type {\n",
       "        vertical-align: middle;\n",
       "    }\n",
       "\n",
       "    .dataframe tbody tr th {\n",
       "        vertical-align: top;\n",
       "    }\n",
       "\n",
       "    .dataframe thead th {\n",
       "        text-align: right;\n",
       "    }\n",
       "</style>\n",
       "<table border=\"1\" class=\"dataframe\">\n",
       "  <thead>\n",
       "    <tr style=\"text-align: right;\">\n",
       "      <th></th>\n",
       "      <th>Transaction_ID</th>\n",
       "      <th>Timestamp</th>\n",
       "      <th>Vehicle_Type</th>\n",
       "      <th>FastagID</th>\n",
       "      <th>TollBoothID</th>\n",
       "      <th>Lane_Type</th>\n",
       "      <th>Vehicle_Dimensions</th>\n",
       "      <th>Transaction_Amount</th>\n",
       "      <th>Amount_paid</th>\n",
       "      <th>Geographical_Location</th>\n",
       "      <th>Vehicle_Speed</th>\n",
       "      <th>Vehicle_Plate_Number</th>\n",
       "      <th>Fraud_indicator</th>\n",
       "    </tr>\n",
       "  </thead>\n",
       "  <tbody>\n",
       "    <tr>\n",
       "      <th>2</th>\n",
       "      <td>3</td>\n",
       "      <td>1/8/2023 18:25</td>\n",
       "      <td>Motorcycle</td>\n",
       "      <td>NaN</td>\n",
       "      <td>D-104</td>\n",
       "      <td>Regular</td>\n",
       "      <td>Small</td>\n",
       "      <td>0</td>\n",
       "      <td>0</td>\n",
       "      <td>13.059816123454882, 77.77068662374292</td>\n",
       "      <td>53</td>\n",
       "      <td>KA88EF9012</td>\n",
       "      <td>Not Fraud</td>\n",
       "    </tr>\n",
       "    <tr>\n",
       "      <th>9</th>\n",
       "      <td>10</td>\n",
       "      <td>1/15/2023 7:30</td>\n",
       "      <td>Motorcycle</td>\n",
       "      <td>NaN</td>\n",
       "      <td>D-104</td>\n",
       "      <td>Regular</td>\n",
       "      <td>Small</td>\n",
       "      <td>0</td>\n",
       "      <td>0</td>\n",
       "      <td>13.059816123454882, 77.77068662374292</td>\n",
       "      <td>72</td>\n",
       "      <td>KA22ST6789</td>\n",
       "      <td>Not Fraud</td>\n",
       "    </tr>\n",
       "    <tr>\n",
       "      <th>16</th>\n",
       "      <td>17</td>\n",
       "      <td>1/22/2023 16:45</td>\n",
       "      <td>Motorcycle</td>\n",
       "      <td>NaN</td>\n",
       "      <td>D-104</td>\n",
       "      <td>Regular</td>\n",
       "      <td>Small</td>\n",
       "      <td>0</td>\n",
       "      <td>0</td>\n",
       "      <td>13.059816123454882, 77.77068662374292</td>\n",
       "      <td>62</td>\n",
       "      <td>KA20GH1345</td>\n",
       "      <td>Not Fraud</td>\n",
       "    </tr>\n",
       "    <tr>\n",
       "      <th>23</th>\n",
       "      <td>24</td>\n",
       "      <td>1/29/2023 3:05</td>\n",
       "      <td>Motorcycle</td>\n",
       "      <td>NaN</td>\n",
       "      <td>D-104</td>\n",
       "      <td>Regular</td>\n",
       "      <td>Small</td>\n",
       "      <td>0</td>\n",
       "      <td>0</td>\n",
       "      <td>13.059816123454882, 77.77068662374292</td>\n",
       "      <td>77</td>\n",
       "      <td>KA77UV0123</td>\n",
       "      <td>Not Fraud</td>\n",
       "    </tr>\n",
       "    <tr>\n",
       "      <th>30</th>\n",
       "      <td>31</td>\n",
       "      <td>2/5/2023 13:20</td>\n",
       "      <td>Motorcycle</td>\n",
       "      <td>NaN</td>\n",
       "      <td>D-104</td>\n",
       "      <td>Regular</td>\n",
       "      <td>Small</td>\n",
       "      <td>0</td>\n",
       "      <td>0</td>\n",
       "      <td>13.059816123454882, 77.77068662374292</td>\n",
       "      <td>57</td>\n",
       "      <td>KA92IJ5789</td>\n",
       "      <td>Not Fraud</td>\n",
       "    </tr>\n",
       "    <tr>\n",
       "      <th>...</th>\n",
       "      <td>...</td>\n",
       "      <td>...</td>\n",
       "      <td>...</td>\n",
       "      <td>...</td>\n",
       "      <td>...</td>\n",
       "      <td>...</td>\n",
       "      <td>...</td>\n",
       "      <td>...</td>\n",
       "      <td>...</td>\n",
       "      <td>...</td>\n",
       "      <td>...</td>\n",
       "      <td>...</td>\n",
       "      <td>...</td>\n",
       "    </tr>\n",
       "    <tr>\n",
       "      <th>4966</th>\n",
       "      <td>4967</td>\n",
       "      <td>8/31/2023 6:08</td>\n",
       "      <td>Motorcycle</td>\n",
       "      <td>NaN</td>\n",
       "      <td>D-106</td>\n",
       "      <td>Regular</td>\n",
       "      <td>Small</td>\n",
       "      <td>0</td>\n",
       "      <td>0</td>\n",
       "      <td>13.21331620748757, 77.55413526894684</td>\n",
       "      <td>47</td>\n",
       "      <td>AP34MN6789</td>\n",
       "      <td>Not Fraud</td>\n",
       "    </tr>\n",
       "    <tr>\n",
       "      <th>4973</th>\n",
       "      <td>4974</td>\n",
       "      <td>12/27/2023 19:04</td>\n",
       "      <td>Motorcycle</td>\n",
       "      <td>NaN</td>\n",
       "      <td>D-106</td>\n",
       "      <td>Regular</td>\n",
       "      <td>Small</td>\n",
       "      <td>0</td>\n",
       "      <td>0</td>\n",
       "      <td>13.21331620748757, 77.55413526894684</td>\n",
       "      <td>84</td>\n",
       "      <td>AP01AB4567</td>\n",
       "      <td>Not Fraud</td>\n",
       "    </tr>\n",
       "    <tr>\n",
       "      <th>4980</th>\n",
       "      <td>4981</td>\n",
       "      <td>4/20/2023 6:01</td>\n",
       "      <td>Motorcycle</td>\n",
       "      <td>NaN</td>\n",
       "      <td>D-106</td>\n",
       "      <td>Regular</td>\n",
       "      <td>Small</td>\n",
       "      <td>0</td>\n",
       "      <td>0</td>\n",
       "      <td>13.21331620748757, 77.55413526894684</td>\n",
       "      <td>74</td>\n",
       "      <td>AP78OP2345</td>\n",
       "      <td>Not Fraud</td>\n",
       "    </tr>\n",
       "    <tr>\n",
       "      <th>4987</th>\n",
       "      <td>4988</td>\n",
       "      <td>8/19/2023 18:57</td>\n",
       "      <td>Motorcycle</td>\n",
       "      <td>NaN</td>\n",
       "      <td>D-106</td>\n",
       "      <td>Regular</td>\n",
       "      <td>Small</td>\n",
       "      <td>0</td>\n",
       "      <td>0</td>\n",
       "      <td>13.21331620748757, 77.55413526894684</td>\n",
       "      <td>90</td>\n",
       "      <td>AP45CD0123</td>\n",
       "      <td>Not Fraud</td>\n",
       "    </tr>\n",
       "    <tr>\n",
       "      <th>4994</th>\n",
       "      <td>4995</td>\n",
       "      <td>12/14/2023 6:53</td>\n",
       "      <td>Motorcycle</td>\n",
       "      <td>NaN</td>\n",
       "      <td>D-106</td>\n",
       "      <td>Regular</td>\n",
       "      <td>Small</td>\n",
       "      <td>0</td>\n",
       "      <td>0</td>\n",
       "      <td>13.21331620748757, 77.55413526894684</td>\n",
       "      <td>46</td>\n",
       "      <td>AP12QR8901</td>\n",
       "      <td>Not Fraud</td>\n",
       "    </tr>\n",
       "  </tbody>\n",
       "</table>\n",
       "<p>549 rows × 13 columns</p>\n",
       "</div>"
      ],
      "text/plain": [
       "      Transaction_ID         Timestamp Vehicle_Type FastagID TollBoothID  \\\n",
       "2                  3    1/8/2023 18:25   Motorcycle      NaN       D-104   \n",
       "9                 10    1/15/2023 7:30   Motorcycle      NaN       D-104   \n",
       "16                17   1/22/2023 16:45   Motorcycle      NaN       D-104   \n",
       "23                24    1/29/2023 3:05   Motorcycle      NaN       D-104   \n",
       "30                31    2/5/2023 13:20   Motorcycle      NaN       D-104   \n",
       "...              ...               ...          ...      ...         ...   \n",
       "4966            4967    8/31/2023 6:08   Motorcycle      NaN       D-106   \n",
       "4973            4974  12/27/2023 19:04   Motorcycle      NaN       D-106   \n",
       "4980            4981    4/20/2023 6:01   Motorcycle      NaN       D-106   \n",
       "4987            4988   8/19/2023 18:57   Motorcycle      NaN       D-106   \n",
       "4994            4995   12/14/2023 6:53   Motorcycle      NaN       D-106   \n",
       "\n",
       "     Lane_Type Vehicle_Dimensions  Transaction_Amount  Amount_paid  \\\n",
       "2      Regular              Small                   0            0   \n",
       "9      Regular              Small                   0            0   \n",
       "16     Regular              Small                   0            0   \n",
       "23     Regular              Small                   0            0   \n",
       "30     Regular              Small                   0            0   \n",
       "...        ...                ...                 ...          ...   \n",
       "4966   Regular              Small                   0            0   \n",
       "4973   Regular              Small                   0            0   \n",
       "4980   Regular              Small                   0            0   \n",
       "4987   Regular              Small                   0            0   \n",
       "4994   Regular              Small                   0            0   \n",
       "\n",
       "                      Geographical_Location  Vehicle_Speed  \\\n",
       "2     13.059816123454882, 77.77068662374292             53   \n",
       "9     13.059816123454882, 77.77068662374292             72   \n",
       "16    13.059816123454882, 77.77068662374292             62   \n",
       "23    13.059816123454882, 77.77068662374292             77   \n",
       "30    13.059816123454882, 77.77068662374292             57   \n",
       "...                                     ...            ...   \n",
       "4966   13.21331620748757, 77.55413526894684             47   \n",
       "4973   13.21331620748757, 77.55413526894684             84   \n",
       "4980   13.21331620748757, 77.55413526894684             74   \n",
       "4987   13.21331620748757, 77.55413526894684             90   \n",
       "4994   13.21331620748757, 77.55413526894684             46   \n",
       "\n",
       "     Vehicle_Plate_Number Fraud_indicator  \n",
       "2              KA88EF9012       Not Fraud  \n",
       "9              KA22ST6789       Not Fraud  \n",
       "16             KA20GH1345       Not Fraud  \n",
       "23             KA77UV0123       Not Fraud  \n",
       "30             KA92IJ5789       Not Fraud  \n",
       "...                   ...             ...  \n",
       "4966           AP34MN6789       Not Fraud  \n",
       "4973           AP01AB4567       Not Fraud  \n",
       "4980           AP78OP2345       Not Fraud  \n",
       "4987           AP45CD0123       Not Fraud  \n",
       "4994           AP12QR8901       Not Fraud  \n",
       "\n",
       "[549 rows x 13 columns]"
      ]
     },
     "execution_count": 8,
     "metadata": {},
     "output_type": "execute_result"
    }
   ],
   "source": [
    "# All the null Fastag \n",
    "df[df['FastagID'].isnull()]"
   ]
  },
  {
   "cell_type": "code",
   "execution_count": 9,
   "metadata": {},
   "outputs": [
    {
     "data": {
      "text/plain": [
       "np.int64(0)"
      ]
     },
     "execution_count": 9,
     "metadata": {},
     "output_type": "execute_result"
    }
   ],
   "source": [
    "df.duplicated().sum()"
   ]
  },
  {
   "cell_type": "code",
   "execution_count": 10,
   "metadata": {},
   "outputs": [
    {
     "data": {
      "application/vnd.microsoft.datawrangler.viewer.v0+json": {
       "columns": [
        {
         "name": "index",
         "rawType": "object",
         "type": "string"
        },
        {
         "name": "Transaction_ID",
         "rawType": "float64",
         "type": "float"
        },
        {
         "name": "Transaction_Amount",
         "rawType": "float64",
         "type": "float"
        },
        {
         "name": "Amount_paid",
         "rawType": "float64",
         "type": "float"
        },
        {
         "name": "Vehicle_Speed",
         "rawType": "float64",
         "type": "float"
        }
       ],
       "conversionMethod": "pd.DataFrame",
       "ref": "9e7e6a07-dd2d-472d-a6f5-d3c385448702",
       "rows": [
        [
         "count",
         "5000.0",
         "5000.0",
         "5000.0",
         "5000.0"
        ],
        [
         "mean",
         "2500.5",
         "161.062",
         "141.261",
         "67.8512"
        ],
        [
         "std",
         "1443.5200033252052",
         "112.44994955192665",
         "106.48099604860907",
         "16.597546634091863"
        ],
        [
         "min",
         "1.0",
         "0.0",
         "0.0",
         "10.0"
        ],
        [
         "25%",
         "1250.75",
         "100.0",
         "90.0",
         "54.0"
        ],
        [
         "50%",
         "2500.5",
         "130.0",
         "120.0",
         "67.0"
        ],
        [
         "75%",
         "3750.25",
         "290.0",
         "160.0",
         "82.0"
        ],
        [
         "max",
         "5000.0",
         "350.0",
         "350.0",
         "118.0"
        ]
       ],
       "shape": {
        "columns": 4,
        "rows": 8
       }
      },
      "text/html": [
       "<div>\n",
       "<style scoped>\n",
       "    .dataframe tbody tr th:only-of-type {\n",
       "        vertical-align: middle;\n",
       "    }\n",
       "\n",
       "    .dataframe tbody tr th {\n",
       "        vertical-align: top;\n",
       "    }\n",
       "\n",
       "    .dataframe thead th {\n",
       "        text-align: right;\n",
       "    }\n",
       "</style>\n",
       "<table border=\"1\" class=\"dataframe\">\n",
       "  <thead>\n",
       "    <tr style=\"text-align: right;\">\n",
       "      <th></th>\n",
       "      <th>Transaction_ID</th>\n",
       "      <th>Transaction_Amount</th>\n",
       "      <th>Amount_paid</th>\n",
       "      <th>Vehicle_Speed</th>\n",
       "    </tr>\n",
       "  </thead>\n",
       "  <tbody>\n",
       "    <tr>\n",
       "      <th>count</th>\n",
       "      <td>5000.000000</td>\n",
       "      <td>5000.00000</td>\n",
       "      <td>5000.000000</td>\n",
       "      <td>5000.000000</td>\n",
       "    </tr>\n",
       "    <tr>\n",
       "      <th>mean</th>\n",
       "      <td>2500.500000</td>\n",
       "      <td>161.06200</td>\n",
       "      <td>141.261000</td>\n",
       "      <td>67.851200</td>\n",
       "    </tr>\n",
       "    <tr>\n",
       "      <th>std</th>\n",
       "      <td>1443.520003</td>\n",
       "      <td>112.44995</td>\n",
       "      <td>106.480996</td>\n",
       "      <td>16.597547</td>\n",
       "    </tr>\n",
       "    <tr>\n",
       "      <th>min</th>\n",
       "      <td>1.000000</td>\n",
       "      <td>0.00000</td>\n",
       "      <td>0.000000</td>\n",
       "      <td>10.000000</td>\n",
       "    </tr>\n",
       "    <tr>\n",
       "      <th>25%</th>\n",
       "      <td>1250.750000</td>\n",
       "      <td>100.00000</td>\n",
       "      <td>90.000000</td>\n",
       "      <td>54.000000</td>\n",
       "    </tr>\n",
       "    <tr>\n",
       "      <th>50%</th>\n",
       "      <td>2500.500000</td>\n",
       "      <td>130.00000</td>\n",
       "      <td>120.000000</td>\n",
       "      <td>67.000000</td>\n",
       "    </tr>\n",
       "    <tr>\n",
       "      <th>75%</th>\n",
       "      <td>3750.250000</td>\n",
       "      <td>290.00000</td>\n",
       "      <td>160.000000</td>\n",
       "      <td>82.000000</td>\n",
       "    </tr>\n",
       "    <tr>\n",
       "      <th>max</th>\n",
       "      <td>5000.000000</td>\n",
       "      <td>350.00000</td>\n",
       "      <td>350.000000</td>\n",
       "      <td>118.000000</td>\n",
       "    </tr>\n",
       "  </tbody>\n",
       "</table>\n",
       "</div>"
      ],
      "text/plain": [
       "       Transaction_ID  Transaction_Amount  Amount_paid  Vehicle_Speed\n",
       "count     5000.000000          5000.00000  5000.000000    5000.000000\n",
       "mean      2500.500000           161.06200   141.261000      67.851200\n",
       "std       1443.520003           112.44995   106.480996      16.597547\n",
       "min          1.000000             0.00000     0.000000      10.000000\n",
       "25%       1250.750000           100.00000    90.000000      54.000000\n",
       "50%       2500.500000           130.00000   120.000000      67.000000\n",
       "75%       3750.250000           290.00000   160.000000      82.000000\n",
       "max       5000.000000           350.00000   350.000000     118.000000"
      ]
     },
     "execution_count": 10,
     "metadata": {},
     "output_type": "execute_result"
    }
   ],
   "source": [
    "# Describe for numerical feactures\n",
    "df.describe() "
   ]
  },
  {
   "cell_type": "code",
   "execution_count": 11,
   "metadata": {},
   "outputs": [
    {
     "data": {
      "application/vnd.microsoft.datawrangler.viewer.v0+json": {
       "columns": [
        {
         "name": "index",
         "rawType": "object",
         "type": "string"
        },
        {
         "name": "Timestamp",
         "rawType": "object",
         "type": "unknown"
        },
        {
         "name": "Vehicle_Type",
         "rawType": "object",
         "type": "unknown"
        },
        {
         "name": "FastagID",
         "rawType": "object",
         "type": "unknown"
        },
        {
         "name": "TollBoothID",
         "rawType": "object",
         "type": "unknown"
        },
        {
         "name": "Lane_Type",
         "rawType": "object",
         "type": "unknown"
        },
        {
         "name": "Vehicle_Dimensions",
         "rawType": "object",
         "type": "unknown"
        },
        {
         "name": "Geographical_Location",
         "rawType": "object",
         "type": "unknown"
        },
        {
         "name": "Vehicle_Plate_Number",
         "rawType": "object",
         "type": "unknown"
        },
        {
         "name": "Fraud_indicator",
         "rawType": "object",
         "type": "unknown"
        }
       ],
       "conversionMethod": "pd.DataFrame",
       "ref": "4f6ee24e-bc9e-4c6b-8bcd-2507dbb03263",
       "rows": [
        [
         "count",
         "5000",
         "5000",
         "4451",
         "5000",
         "5000",
         "5000",
         "5000",
         "5000",
         "5000"
        ],
        [
         "unique",
         "4423",
         "7",
         "4451",
         "6",
         "2",
         "3",
         "5",
         "5000",
         "2"
        ],
        [
         "top",
         "1/24/2023 2:55",
         "Bus ",
         "FTG-459-WSX-543",
         "B-102",
         "Regular",
         "Large",
         "13.059816123454882, 77.77068662374292",
         "KA37AB3456",
         "Not Fraud"
        ],
        [
         "freq",
         "5",
         "716",
         "1",
         "1432",
         "2858",
         "2144",
         "1000",
         "1",
         "4017"
        ]
       ],
       "shape": {
        "columns": 9,
        "rows": 4
       }
      },
      "text/html": [
       "<div>\n",
       "<style scoped>\n",
       "    .dataframe tbody tr th:only-of-type {\n",
       "        vertical-align: middle;\n",
       "    }\n",
       "\n",
       "    .dataframe tbody tr th {\n",
       "        vertical-align: top;\n",
       "    }\n",
       "\n",
       "    .dataframe thead th {\n",
       "        text-align: right;\n",
       "    }\n",
       "</style>\n",
       "<table border=\"1\" class=\"dataframe\">\n",
       "  <thead>\n",
       "    <tr style=\"text-align: right;\">\n",
       "      <th></th>\n",
       "      <th>Timestamp</th>\n",
       "      <th>Vehicle_Type</th>\n",
       "      <th>FastagID</th>\n",
       "      <th>TollBoothID</th>\n",
       "      <th>Lane_Type</th>\n",
       "      <th>Vehicle_Dimensions</th>\n",
       "      <th>Geographical_Location</th>\n",
       "      <th>Vehicle_Plate_Number</th>\n",
       "      <th>Fraud_indicator</th>\n",
       "    </tr>\n",
       "  </thead>\n",
       "  <tbody>\n",
       "    <tr>\n",
       "      <th>count</th>\n",
       "      <td>5000</td>\n",
       "      <td>5000</td>\n",
       "      <td>4451</td>\n",
       "      <td>5000</td>\n",
       "      <td>5000</td>\n",
       "      <td>5000</td>\n",
       "      <td>5000</td>\n",
       "      <td>5000</td>\n",
       "      <td>5000</td>\n",
       "    </tr>\n",
       "    <tr>\n",
       "      <th>unique</th>\n",
       "      <td>4423</td>\n",
       "      <td>7</td>\n",
       "      <td>4451</td>\n",
       "      <td>6</td>\n",
       "      <td>2</td>\n",
       "      <td>3</td>\n",
       "      <td>5</td>\n",
       "      <td>5000</td>\n",
       "      <td>2</td>\n",
       "    </tr>\n",
       "    <tr>\n",
       "      <th>top</th>\n",
       "      <td>1/24/2023 2:55</td>\n",
       "      <td>Bus</td>\n",
       "      <td>FTG-459-WSX-543</td>\n",
       "      <td>B-102</td>\n",
       "      <td>Regular</td>\n",
       "      <td>Large</td>\n",
       "      <td>13.059816123454882, 77.77068662374292</td>\n",
       "      <td>KA37AB3456</td>\n",
       "      <td>Not Fraud</td>\n",
       "    </tr>\n",
       "    <tr>\n",
       "      <th>freq</th>\n",
       "      <td>5</td>\n",
       "      <td>716</td>\n",
       "      <td>1</td>\n",
       "      <td>1432</td>\n",
       "      <td>2858</td>\n",
       "      <td>2144</td>\n",
       "      <td>1000</td>\n",
       "      <td>1</td>\n",
       "      <td>4017</td>\n",
       "    </tr>\n",
       "  </tbody>\n",
       "</table>\n",
       "</div>"
      ],
      "text/plain": [
       "             Timestamp Vehicle_Type         FastagID TollBoothID Lane_Type  \\\n",
       "count             5000         5000             4451        5000      5000   \n",
       "unique            4423            7             4451           6         2   \n",
       "top     1/24/2023 2:55         Bus   FTG-459-WSX-543       B-102   Regular   \n",
       "freq                 5          716                1        1432      2858   \n",
       "\n",
       "       Vehicle_Dimensions                  Geographical_Location  \\\n",
       "count                5000                                   5000   \n",
       "unique                  3                                      5   \n",
       "top                 Large  13.059816123454882, 77.77068662374292   \n",
       "freq                 2144                                   1000   \n",
       "\n",
       "       Vehicle_Plate_Number Fraud_indicator  \n",
       "count                  5000            5000  \n",
       "unique                 5000               2  \n",
       "top              KA37AB3456       Not Fraud  \n",
       "freq                      1            4017  "
      ]
     },
     "execution_count": 11,
     "metadata": {},
     "output_type": "execute_result"
    }
   ],
   "source": [
    "# Describe or get the statistical description for numerical + categorical feactures\n",
    "df.describe(include = \"object\")"
   ]
  },
  {
   "cell_type": "markdown",
   "metadata": {},
   "source": [
    "### Observation 1\n",
    "\n",
    "1. Fastag ID has 549 Null values.\n",
    "2. No Duplicate Entries.\n",
    "3. Data type are almost correct."
   ]
  },
  {
   "cell_type": "code",
   "execution_count": 12,
   "metadata": {},
   "outputs": [
    {
     "data": {
      "text/plain": [
       "Index(['Transaction_ID', 'Timestamp', 'Vehicle_Type', 'FastagID',\n",
       "       'TollBoothID', 'Lane_Type', 'Vehicle_Dimensions', 'Transaction_Amount',\n",
       "       'Amount_paid', 'Geographical_Location', 'Vehicle_Speed',\n",
       "       'Vehicle_Plate_Number', 'Fraud_indicator'],\n",
       "      dtype='object')"
      ]
     },
     "execution_count": 12,
     "metadata": {},
     "output_type": "execute_result"
    }
   ],
   "source": [
    "df.columns"
   ]
  },
  {
   "cell_type": "code",
   "execution_count": 13,
   "metadata": {},
   "outputs": [
    {
     "name": "stdout",
     "output_type": "stream",
     "text": [
      "Unique Vehicle Type :  ['Bus ' 'Car' 'Motorcycle' 'Truck' 'Van' 'Sedan' 'SUV']\n",
      "Unique TollBoothID :  ['A-101' 'B-102' 'D-104' 'C-103' 'D-105' 'D-106']\n",
      "Unique Lane Type :  ['Express' 'Regular']\n",
      "Unique Vehicle Dimension :  ['Large' 'Small' 'Medium']\n",
      "Unique Geographical Location :  ['13.059816123454882, 77.77068662374292'\n",
      " '13.042660878688794, 77.47580097259879'\n",
      " '12.84197701525119, 77.67547528176169'\n",
      " '12.936687032945434, 77.53113977439017'\n",
      " '13.21331620748757, 77.55413526894684']\n",
      "Unique Fraud Indicator :  ['Fraud' 'Not Fraud']\n"
     ]
    }
   ],
   "source": [
    "# Unique Values \n",
    "print(\"Unique Vehicle Type : \", df[\"Vehicle_Type\"].unique())\n",
    "print(\"Unique TollBoothID : \", df[\"TollBoothID\"].unique())\n",
    "print(\"Unique Lane Type : \", df[\"Lane_Type\"].unique())\n",
    "print(\"Unique Vehicle Dimension : \", df[\"Vehicle_Dimensions\"].unique())\n",
    "print(\"Unique Geographical Location : \", df[\"Geographical_Location\"].unique())\n",
    "print(\"Unique Fraud Indicator : \", df[\"Fraud_indicator\"].unique())\n"
   ]
  },
  {
   "cell_type": "markdown",
   "metadata": {},
   "source": [
    "2. Data Visualisation"
   ]
  },
  {
   "cell_type": "code",
   "execution_count": 14,
   "metadata": {},
   "outputs": [],
   "source": [
    "# Import Libraries\n",
    "import matplotlib.pyplot as plt\n",
    "import seaborn as sns"
   ]
  },
  {
   "cell_type": "code",
   "execution_count": 15,
   "metadata": {},
   "outputs": [
    {
     "name": "stdout",
     "output_type": "stream",
     "text": [
      "Fraud_indicator\n",
      "Not Fraud    4017\n",
      "Fraud         983\n",
      "Name: count, dtype: int64\n"
     ]
    },
    {
     "data": {
      "image/png": "[encoded data removed]",
      "text/plain": [
       "<Figure size 640x480 with 1 Axes>"
      ]
     },
     "metadata": {},
     "output_type": "display_data"
    }
   ],
   "source": [
    "# Percentage of Fraud or not fraud\n",
    "print(df['Fraud_indicator'].value_counts())\n",
    "df[\"Fraud_indicator\"].value_counts().plot( kind='pie' ,autopct = \"%1.1f%%\" ,colors = ['green' , 'red'])\n",
    "plt.title(\"Pencentage of Fraud Indicator\")\n",
    "plt.axis(\"equal\")\n",
    "plt.show()"
   ]
  },
  {
   "cell_type": "markdown",
   "metadata": {},
   "source": [
    "### 2.1 Analyse Different Columns \n",
    "\n",
    "Analysis based on Fraud Indicators"
   ]
  },
  {
   "cell_type": "code",
   "execution_count": 16,
   "metadata": {},
   "outputs": [
    {
     "data": {
      "text/plain": [
       "Vehicle_Type\n",
       "Bus           716\n",
       "Car           714\n",
       "Motorcycle    714\n",
       "Truck         714\n",
       "Van           714\n",
       "Sedan         714\n",
       "SUV           714\n",
       "Name: count, dtype: int64"
      ]
     },
     "execution_count": 16,
     "metadata": {},
     "output_type": "execute_result"
    }
   ],
   "source": [
    "df['Vehicle_Type'].value_counts()"
   ]
  },
  {
   "cell_type": "code",
   "execution_count": 17,
   "metadata": {},
   "outputs": [
    {
     "data": {
      "text/plain": [
       "Text(0.5, 1.0, 'Vehicle Type')"
      ]
     },
     "execution_count": 17,
     "metadata": {},
     "output_type": "execute_result"
    },
    {
     "data": {
      "image/png": "[encoded data removed]",
      "text/plain": [
       "<Figure size 640x480 with 1 Axes>"
      ]
     },
     "metadata": {},
     "output_type": "display_data"
    }
   ],
   "source": [
    "# Vehicle Type\n",
    "sns.countplot(x ='Vehicle_Type' , data = df , hue = \"Fraud_indicator\").set_title('Vehicle Type')"
   ]
  },
  {
   "cell_type": "code",
   "execution_count": 18,
   "metadata": {},
   "outputs": [
    {
     "data": {
      "text/plain": [
       "Text(0.5, 1.0, 'Vehicle Dimensions')"
      ]
     },
     "execution_count": 18,
     "metadata": {},
     "output_type": "execute_result"
    },
    {
     "data": {
      "image/png": "[encoded data removed]",
      "text/plain": [
       "<Figure size 700x500 with 1 Axes>"
      ]
     },
     "metadata": {},
     "output_type": "display_data"
    }
   ],
   "source": [
    "# Vehicle Dimension \n",
    "plt.figure(figsize=(7,5))\n",
    "sns.countplot(x ='Vehicle_Dimensions' , data = df , hue = \"Fraud_indicator\").set_title('Vehicle Dimensions')"
   ]
  },
  {
   "cell_type": "code",
   "execution_count": 19,
   "metadata": {},
   "outputs": [
    {
     "data": {
      "text/plain": [
       "Text(0.5, 1.0, 'Different TollBoothID')"
      ]
     },
     "execution_count": 19,
     "metadata": {},
     "output_type": "execute_result"
    },
    {
     "data": {
      "image/png": "[encoded data removed]",
      "text/plain": [
       "<Figure size 700x500 with 1 Axes>"
      ]
     },
     "metadata": {},
     "output_type": "display_data"
    }
   ],
   "source": [
    "# Different TollBooth\n",
    "\n",
    "plt.figure(figsize=(7,5))\n",
    "sns.countplot(x ='TollBoothID' , data = df , hue = \"Fraud_indicator\").set_title('Different TollBoothID')\n"
   ]
  },
  {
   "cell_type": "code",
   "execution_count": 20,
   "metadata": {},
   "outputs": [
    {
     "data": {
      "text/plain": [
       "Text(0.5, 1.0, 'Lane_Type')"
      ]
     },
     "execution_count": 20,
     "metadata": {},
     "output_type": "execute_result"
    },
    {
     "data": {
      "image/png": "[encoded data removed]",
      "text/plain": [
       "<Figure size 700x500 with 1 Axes>"
      ]
     },
     "metadata": {},
     "output_type": "display_data"
    }
   ],
   "source": [
    "# Different Lane_Type\n",
    "\n",
    "plt.figure(figsize=(7,5))\n",
    "sns.countplot(x ='Lane_Type' , data = df , hue = \"Fraud_indicator\").set_title('Lane_Type')\n"
   ]
  },
  {
   "cell_type": "code",
   "execution_count": 21,
   "metadata": {},
   "outputs": [
    {
     "data": {
      "text/plain": [
       "<function matplotlib.pyplot.tight_layout(*, pad: 'float' = 1.08, h_pad: 'float | None' = None, w_pad: 'float | None' = None, rect: 'tuple[float, float, float, float] | None' = None) -> 'None'>"
      ]
     },
     "execution_count": 21,
     "metadata": {},
     "output_type": "execute_result"
    },
    {
     "data": {
      "image/png": "[encoded data removed]",
      "text/plain": [
       "<Figure size 1400x1000 with 4 Axes>"
      ]
     },
     "metadata": {},
     "output_type": "display_data"
    },
    {
     "data": {
      "text/plain": [
       "<Figure size 700x500 with 0 Axes>"
      ]
     },
     "metadata": {},
     "output_type": "display_data"
    },
    {
     "data": {
      "text/plain": [
       "<Figure size 700x500 with 0 Axes>"
      ]
     },
     "metadata": {},
     "output_type": "display_data"
    },
    {
     "data": {
      "text/plain": [
       "<Figure size 700x500 with 0 Axes>"
      ]
     },
     "metadata": {},
     "output_type": "display_data"
    }
   ],
   "source": [
    "# Combining all Graphs together \n",
    "\n",
    "fig , axes  = plt.subplots(2,2 ,figsize= (14,10))\n",
    "# Vehicle Type\n",
    "sns.countplot(x ='Vehicle_Type' , data = df , hue = \"Fraud_indicator\",  ax = axes[0,0]).set_title('Vehicle Type')\n",
    "\n",
    "# Vehicle Dimension \n",
    "plt.figure(figsize=(7,5))\n",
    "sns.countplot(x ='Vehicle_Dimensions' , data = df , hue = \"Fraud_indicator\" , ax = axes[0,1]).set_title('Vehicle Dimensions')\n",
    "\n",
    "# Different TollBooth\n",
    "plt.figure(figsize=(7,5))\n",
    "sns.countplot(x ='TollBoothID' , data = df , hue = \"Fraud_indicator\", ax = axes[1,0]).set_title('Different TollBoothID')\n",
    "\n",
    "# Different Lane_Type\n",
    "plt.figure(figsize=(7,5))\n",
    "sns.countplot(x ='Lane_Type' , data = df , hue = \"Fraud_indicator\" , ax = axes[1,1]).set_title('Lane_Type')\n",
    "\n",
    "plt.tight_layout"
   ]
  },
  {
   "cell_type": "markdown",
   "metadata": {},
   "source": [
    "#### Obeservation2 \n",
    "\n",
    "1. Motor cycle are clean - it's not involved in any fraud.\n",
    "2. TollBooths 104, 105, 106 have no fraud detected.But 101, 102, 103 have mixed data.\n",
    "3. Express way has higher fraud percentage based on vehicle than regular ways.\n",
    "4. Very less small vehicle are involved in fraud."
   ]
  }
 ],
 "metadata": {
  "kernelspec": {
   "display_name": "myProjectEnv",
   "language": "python",
   "name": "python3"
  },
  "language_info": {
   "codemirror_mode": {
    "name": "ipython",
    "version": 3
   },
   "file_extension": ".py",
   "mimetype": "text/x-python",
   "name": "python",
   "nbconvert_exporter": "python",
   "pygments_lexer": "ipython3",
   "version": "3.10.11"
  }
 },
 "nbformat": 4,
 "nbformat_minor": 2
}
